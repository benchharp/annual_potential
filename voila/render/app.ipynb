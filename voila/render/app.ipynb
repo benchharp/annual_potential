{
 "cells": [
  {
   "cell_type": "code",
   "execution_count": 1,
   "id": "c8e72ad7-bc39-4bff-bbd1-5291e93eddc3",
   "metadata": {},
   "outputs": [],
   "source": [
    "import pandas as pd\n",
    "import sqlite3\n",
    "import plotly.graph_objects as go\n",
    "import ipywidgets as widgets\n",
    "from IPython.display import display\n",
    "\n",
    "# Load data\n",
    "conn = sqlite3.connect('jw_stats.db')\n",
    "query = \"\"\"\n",
    "SELECT \n",
    "    year AS Year,\n",
    "    worldwide_worldwide_memorial_attendance AS Memorial_Attendance,\n",
    "    average_publishers_preaching_each_month AS Publishers,\n",
    "    average_bible_studies_each_month AS Studies\n",
    "FROM yearly_stats;\n",
    "\"\"\"\n",
    "df = pd.read_sql_query(query, conn)\n",
    "conn.close()\n",
    "\n",
    "# Clean numeric columns\n",
    "def clean_column(col):\n",
    "    if col.dtype == object:\n",
    "        return pd.to_numeric(col.str.replace(',', ''), errors='coerce') / 1_000_000\n",
    "    else:\n",
    "        return col / 1_000_000\n",
    "\n",
    "df[\"Publishers\"] = clean_column(df[\"Publishers\"])\n",
    "df[\"Studies\"] = clean_column(df[\"Studies\"])\n",
    "df[\"Memorial_Attendance\"] = clean_column(df[\"Memorial_Attendance\"])\n",
    "df[\"Other_Attendees\"] = df[\"Memorial_Attendance\"] - df[\"Publishers\"] - df[\"Studies\"]\n"
   ]
  },
  {
   "cell_type": "code",
   "execution_count": 3,
   "id": "439d4eac-1903-4a96-8130-351803e5dca6",
   "metadata": {},
   "outputs": [],
   "source": [
    "# Year slider range\n",
    "year_range = [df[\"Year\"].min(), df[\"Year\"].max()]\n",
    "\n",
    "year_slider = widgets.IntRangeSlider(\n",
    "    value=year_range,\n",
    "    min=year_range[0],\n",
    "    max=year_range[1],\n",
    "    step=1,\n",
    "    description='Year Range:',\n",
    "    continuous_update=False\n",
    ")\n",
    "\n",
    "highlight_selector = widgets.SelectMultiple(\n",
    "    options=list(df[\"Year\"].unique()),\n",
    "    value=(2000, 2024),\n",
    "    description='Highlight:',\n",
    "    layout=widgets.Layout(width='50%'),\n",
    "    style={'description_width': 'initial'}\n",
    ")"
   ]
  },
  {
   "cell_type": "code",
   "execution_count": 5,
   "id": "1d7aa6f1-35d4-4efb-b43c-d35cdc963319",
   "metadata": {},
   "outputs": [],
   "source": [
    "def plot_growth(year_range, highlight_years):\n",
    "    dff = df[(df[\"Year\"] >= year_range[0]) & (df[\"Year\"] <= year_range[1])]\n",
    "    categories = [\"Publishers\", \"Studies\", \"Other_Attendees\"]\n",
    "    colors = {\n",
    "        \"Publishers\": \"#9ccfd8\",\n",
    "        \"Studies\": \"#f6c177\",\n",
    "        \"Other_Attendees\": \"#eb6f92\"\n",
    "    }\n",
    "\n",
    "    fig = go.Figure()\n",
    "\n",
    "    bottom = pd.Series([0]*len(dff), index=dff.index)\n",
    "\n",
    "    for cat in categories:\n",
    "        fig.add_trace(go.Bar(\n",
    "            x=dff[\"Year\"],\n",
    "            y=dff[cat],\n",
    "            name=cat.replace('_', ' '),\n",
    "            marker_color=colors[cat],\n",
    "            offsetgroup=0,\n",
    "            base=bottom\n",
    "        ))\n",
    "        bottom += dff[cat]\n",
    "\n",
    "    for y in highlight_years:\n",
    "        if y in dff[\"Year\"].values:\n",
    "            fig.add_vline(\n",
    "                x=y,\n",
    "                line_width=2,\n",
    "                line_dash=\"dash\",\n",
    "                line_color=\"gold\",\n",
    "                annotation_text=f\"{y}\",\n",
    "                annotation_position=\"top left\"\n",
    "            )\n",
    "\n",
    "    fig.update_layout(\n",
    "        title=\"Growth Potential: Publishers, Studies & Other Memorial Attendees\",\n",
    "        xaxis_title=\"Year\",\n",
    "        yaxis_title=\"Millions\",\n",
    "        barmode='stack',\n",
    "        template='plotly_dark',\n",
    "        height=600,\n",
    "        legend=dict(\n",
    "            title='',\n",
    "            orientation=\"h\",\n",
    "            yanchor=\"bottom\",\n",
    "            y=1.02,\n",
    "            xanchor=\"left\",\n",
    "            x=0\n",
    "        )\n",
    "    )\n",
    "    fig.show()\n"
   ]
  },
  {
   "cell_type": "code",
   "execution_count": 7,
   "id": "614d7c58-5a6a-4eb7-b006-6b137c4c9e4d",
   "metadata": {},
   "outputs": [
    {
     "data": {
      "application/vnd.jupyter.widget-view+json": {
       "model_id": "8cd698141b6d493e84842a3448dff2ad",
       "version_major": 2,
       "version_minor": 0
      },
      "text/plain": [
       "VBox(children=(IntRangeSlider(value=(1991, 2024), continuous_update=False, description='Year Range:', max=2024…"
      ]
     },
     "metadata": {},
     "output_type": "display_data"
    },
    {
     "data": {
      "application/vnd.jupyter.widget-view+json": {
       "model_id": "5acfe39b62ba4bd0ac4585c2de60a191",
       "version_major": 2,
       "version_minor": 0
      },
      "text/plain": [
       "Output()"
      ]
     },
     "metadata": {},
     "output_type": "display_data"
    }
   ],
   "source": [
    "ui = widgets.VBox([year_slider, highlight_selector])\n",
    "out = widgets.interactive_output(\n",
    "    plot_growth,\n",
    "    {'year_range': year_slider, 'highlight_years': highlight_selector}\n",
    ")\n",
    "\n",
    "display(ui, out)"
   ]
  }
 ],
 "metadata": {
  "kernelspec": {
   "display_name": "Python [conda env:base] *",
   "language": "python",
   "name": "conda-base-py"
  },
  "language_info": {
   "codemirror_mode": {
    "name": "ipython",
    "version": 3
   },
   "file_extension": ".py",
   "mimetype": "text/x-python",
   "name": "python",
   "nbconvert_exporter": "python",
   "pygments_lexer": "ipython3",
   "version": "3.12.7"
  }
 },
 "nbformat": 4,
 "nbformat_minor": 5
}
